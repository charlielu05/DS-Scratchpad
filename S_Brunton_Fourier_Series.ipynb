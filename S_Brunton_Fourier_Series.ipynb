{
  "nbformat": 4,
  "nbformat_minor": 0,
  "metadata": {
    "colab": {
      "name": "S.Brunton-Fourier Series.ipynb",
      "provenance": [],
      "authorship_tag": "ABX9TyN9mwN9TA9KUxffDA8RriCZ",
      "include_colab_link": true
    },
    "kernelspec": {
      "name": "python3",
      "display_name": "Python 3"
    }
  },
  "cells": [
    {
      "cell_type": "markdown",
      "metadata": {
        "id": "view-in-github",
        "colab_type": "text"
      },
      "source": [
        "<a href=\"https://colab.research.google.com/github/charlielu05/DS-Scratchpad/blob/main/S_Brunton_Fourier_Series.ipynb\" target=\"_parent\"><img src=\"https://colab.research.google.com/assets/colab-badge.svg\" alt=\"Open In Colab\"/></a>"
      ]
    },
    {
      "cell_type": "code",
      "metadata": {
        "id": "YimRCgK8HmgT"
      },
      "source": [
        "import numpy as np\n",
        "import matplotlib.pyplot as plt\n",
        "from matplotlib.cm import get_cmap"
      ],
      "execution_count": 1,
      "outputs": []
    },
    {
      "cell_type": "code",
      "metadata": {
        "id": "nFwGffE3ISOC"
      },
      "source": [
        "dx = 0.001\n",
        "L = np.pi\n",
        "x = L * np.arange(-1+dx, 1+dx, dx)\n",
        "n = len(x)\n",
        "nquart = int(np.floor(n/4))"
      ],
      "execution_count": 2,
      "outputs": []
    },
    {
      "cell_type": "code",
      "metadata": {
        "id": "rhnoDJKiId6o"
      },
      "source": [
        "f = np.zeros_like(x)\n",
        "f[nquart:2*nquart] = (4/n)*np.arange(1, nquart+1)\n",
        "f[2*nquart:3*nquart] = np.ones(nquart) - (4/n) * np.arange(0, nquart)"
      ],
      "execution_count": 3,
      "outputs": []
    },
    {
      "cell_type": "code",
      "metadata": {
        "colab": {
          "base_uri": "https://localhost:8080/",
          "height": 303
        },
        "id": "Hie-HllOJbT3",
        "outputId": "af67491e-76e9-47ea-e01c-71a9ce7d3cb0"
      },
      "source": [
        "plt.plot(f)"
      ],
      "execution_count": 4,
      "outputs": [
        {
          "output_type": "execute_result",
          "data": {
            "text/plain": [
              "[<matplotlib.lines.Line2D at 0x7f0b3a05b2b0>]"
            ]
          },
          "metadata": {
            "tags": []
          },
          "execution_count": 4
        },
        {
          "output_type": "display_data",
          "data": {
            "image/png": "[encoded data removed]",
            "text/plain": [
              "<Figure size 432x288 with 1 Axes>"
            ]
          },
          "metadata": {
            "tags": [],
            "needs_background": "light"
          }
        }
      ]
    },
    {
      "cell_type": "markdown",
      "metadata": {
        "id": "xZ0aykDFKoc1"
      },
      "source": [
        "Normalizing constant"
      ]
    },
    {
      "cell_type": "code",
      "metadata": {
        "colab": {
          "base_uri": "https://localhost:8080/"
        },
        "id": "NTrPDYC4Jfqd",
        "outputId": "d8178cd0-3b62-4422-d136-37a6e9fd8c19"
      },
      "source": [
        "dx"
      ],
      "execution_count": 7,
      "outputs": [
        {
          "output_type": "execute_result",
          "data": {
            "text/plain": [
              "0.001"
            ]
          },
          "metadata": {
            "tags": []
          },
          "execution_count": 7
        }
      ]
    },
    {
      "cell_type": "code",
      "metadata": {
        "colab": {
          "base_uri": "https://localhost:8080/"
        },
        "id": "KJQxIeBhK1oZ",
        "outputId": "e63441c3-e246-43eb-b8c1-f13d7f4dc84b"
      },
      "source": [
        "x.shape"
      ],
      "execution_count": 9,
      "outputs": [
        {
          "output_type": "execute_result",
          "data": {
            "text/plain": [
              "(2000,)"
            ]
          },
          "metadata": {
            "tags": []
          },
          "execution_count": 9
        }
      ]
    },
    {
      "cell_type": "code",
      "metadata": {
        "id": "nKmVoS7GNTNL"
      },
      "source": [
        "A0 = np.sum(f * np.ones_like(x)) * dx\n",
        "fFS = A0/2"
      ],
      "execution_count": 21,
      "outputs": []
    },
    {
      "cell_type": "code",
      "metadata": {
        "id": "AxwcquxKKeb5"
      },
      "source": [
        "A = np.zeros(20)\n",
        "B = np.zeros(20)\n",
        "for k in range (20):\n",
        "  A[k] = (f @ (np.cos(np.pi*(k+1)* x/L)).T) * dx\n",
        "  B[k] = (f @ (np.sin(np.pi*(k+1)* x/L)).T) * dx\n",
        "  fFS = fFS + A[k] * np.cos((k+1)*np.pi*x/L) + B[k] * np.sin((np.pi*(k+1)*x/L))"
      ],
      "execution_count": 22,
      "outputs": []
    },
    {
      "cell_type": "code",
      "metadata": {
        "colab": {
          "base_uri": "https://localhost:8080/",
          "height": 303
        },
        "id": "Cp-EB0LSKteI",
        "outputId": "79854b79-bdd2-4704-e9f3-d4e8e7e27d2b"
      },
      "source": [
        "plt.plot(x, f)\n",
        "plt.plot(x, fFS, '-')"
      ],
      "execution_count": 27,
      "outputs": [
        {
          "output_type": "execute_result",
          "data": {
            "text/plain": [
              "[<matplotlib.lines.Line2D at 0x7f0b39942da0>]"
            ]
          },
          "metadata": {
            "tags": []
          },
          "execution_count": 27
        },
        {
          "output_type": "display_data",
          "data": {
            "image/png": "[encoded data removed]",
            "text/plain": [
              "<Figure size 432x288 with 1 Axes>"
            ]
          },
          "metadata": {
            "tags": [],
            "needs_background": "light"
          }
        }
      ]
    },
    {
      "cell_type": "code",
      "metadata": {
        "id": "oKRWyf2aNH-1"
      },
      "source": [
        ""
      ],
      "execution_count": null,
      "outputs": []
    },
    {
      "cell_type": "code",
      "metadata": {
        "id": "TWbmImn_Nzmg"
      },
      "source": [
        ""
      ],
      "execution_count": null,
      "outputs": []
    }
  ]
}